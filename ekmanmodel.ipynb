{
 "cells": [
  {
   "attachments": {},
   "cell_type": "markdown",
   "metadata": {},
   "source": [
    "### Numerical Model for Ocean Flow\n",
    "Sierra Stevenson under mentorship of Dr. Marcelo Chamecki"
   ]
  },
  {
   "cell_type": "markdown",
   "metadata": {},
   "source": [
    "We are solving the system of equations\n",
    "\n",
    "$$\n",
    "\\begin{cases}\n",
    "\n",
    "\\frac{\\partial{\\bar{u}}}{\\partial{t}} &= f(\\bar{v} - v_g) + \\frac{\\partial{k}}{\\partial{z}}  \\frac{\\partial{\\bar{u}}}{\\partial{z}} + k \\frac{\\partial{^2\\bar{u}}}{\\partial{z^2}} \n",
    "\\\\\n",
    "\\frac{\\partial{\\bar{v}}}{\\partial{t}} &= f(\\bar{u} - u_g) + \\frac{\\partial{k}}{\\partial{z}}  \\frac{\\partial{\\bar{v}}}{\\partial{z}} + k \\frac{\\partial{^2\\bar{v}}}{\\partial{z^2}}\n",
    "\n",
    "\\end{cases}\n",
    "$$\n",
    "\n",
    "with boundary conditions\n",
    "\n",
    "*surface ($z=0$):*  $k \\frac{\\partial{\\bar{u}}}{\\partial{z}} = \\frac{T_x}{\\rho}$,  $k \\frac{\\partial{\\bar{v}}}{\\partial{z}} = \\frac{T_y}{\\rho}$\n",
    "\n",
    "*bottom ($z=-\\infty$):* $\\bar{u} = u_g, \\bar{v} = v_g$\n"
   ]
  },
  {
   "cell_type": "markdown",
   "metadata": {},
   "source": [
    "___\n",
    "<center>\n",
    "Centered discretization <p>\n",
    "\n",
    "$$\n",
    "\\begin{align}\n",
    "\n",
    "\\frac{\\partial u_i}{\\partial t} &= f (v_i - v_g) - \\frac{1}{\\Delta z} \\biggr[-K_i \\Bigl(\\frac{\\partial u}{\\partial z}\\Bigr)_{i-\\frac{1}{2}} + K_{i+1} \\Bigl(\\frac{\\partial u}{\\partial z}\\Bigr)_{i+\\frac{1}{2}}\\biggr]\\\\\n",
    "&= f (v_i - v_g) + \\frac{1}{\\Delta z} \\biggr[K_i \\Bigl(\\frac{\\partial u}{\\partial z}\\Bigr)_{i-\\frac{1}{2}} - K_{i+1} \\Bigl(\\frac{\\partial u}{\\partial z}\\Bigr)_{i+\\frac{1}{2}}\\biggr]\\\\\n",
    "&= f (v_i - v_g) + \\frac{1}{\\Delta z} \\biggr[\\Bigl(\\frac{K_i}{\\Delta z}\\Bigr)(u_{i-1}-u_i)-\\Bigl(\\frac{K_{i+1}}{\\Delta z}\\Bigr)(u_{i}-u_{i+1})\\biggr]\\\\\n",
    "&= f (v_i - v_g) + \\frac{1}{\\Delta z^2} \\biggr[K_i(u_{i-1}-u_i)-K_{i+1}(u_{i}-u_{i+1})\\biggr]\n",
    "\n",
    "\n",
    "\\end{align}\n",
    "\\\\\n",
    "\\text{With nonlocal term } \\gamma \\text{=} \\frac{C_s \\left( -\\tau_x / \\rho_0 \\right)^{-1/2}}{u_s h}\\\\\n",
    "\n",
    "\\begin{align}\n",
    "&= f (v_i - v_g) + \\frac{1}{\\Delta z^2} \\biggr[K_i\\bigl((u_{i-1}-u_i)-\\gamma\\bigr)-K_{i+1}\\bigl((u_{i}-u_{i+1})-\\gamma\\bigr)\\biggr]\\\\\n",
    "\n",
    "\n",
    "\n",
    "\\end{align}\n",
    "$$\n",
    "\n",
    "Boundary conditions <p>\n",
    "$$\n",
    "\\begin{align}\n",
    "\n",
    "\\tau &= \\rho_0 K \\Bigl(\\frac{du}{dz}\\Bigr) \\\\\n",
    "\\frac{\\tau}{\\rho_0} &= K \\Bigl(\\frac{du}{dz}\\Bigr) \\\\\n",
    "\\therefore \n",
    "\\frac{\\partial u_0}{\\partial t} &= f (v_0 - v_g) + \\frac{1}{\\Delta z}\\biggr[\\frac{\\tau}{\\rho_0} -\\Bigl(\\frac{K_1}{\\Delta z}\\Bigr)(u_{0}-u_{1})\\biggr]\n",
    "\\\\\n",
    "\\\\\n",
    "u_{bottom} &= u_g\n",
    "\n",
    "\\end{align}\n",
    "\n",
    "$$\n",
    "___\n"
   ]
  },
  {
   "cell_type": "markdown",
   "metadata": {},
   "source": [
    "___\n",
    "<center>\n",
    "Looping with <br>\n",
    "Runge-Kutta 4 <p>\n",
    "\n",
    "$\\tilde{u}_1 = u^n + \\frac{\\Delta t}{2}F(u^n) \\newline$ <p>\n",
    "$\\tilde{u}_2 = u^n + \\frac{\\Delta t}{2}F(\\tilde{u}_1^n) \\newline$ <p>\n",
    "$\\tilde{u}_3 = u^n + \\Delta t F(\\tilde{u}_2^n) \\newline$ <p>\n",
    "$u^{n+1} = u^n + \\frac{\\Delta t}{6}[F(u^n) + 2F(\\tilde{u_1}) + 2F(\\tilde{u_2}) + F(\\tilde{u_3})] \\newline$ <p>\n",
    "\n",
    "___\n"
   ]
  },
  {
   "cell_type": "code",
   "execution_count": 1,
   "metadata": {},
   "outputs": [],
   "source": [
    "# TODO\n",
    "# calculate model h\n",
    "# plot h vs h (LES vs model)\n",
    "# get G_l, g_s from paper\n",
    "# plot u, v profiles\n",
    "# change path name for dataset (import os using getcwd())\n",
    "\n",
    "# Check Gs against plot in appendix\n",
    "# Gs must be zero at h, force this or check equation\n",
    "# Plot u, v profiles to find the error\n",
    "\n",
    "# TODO \n",
    "# Change dz from 1m to 0.25m\n",
    "# Adjust dt to match\n",
    "# Plot LES runs directly, and against LES_z\n",
    "\n",
    "\n",
    "# TODO Find bug making finer-res cases fail\n",
    "# Check K and Gs plots across different dzs (should be same)\n",
    "# Look at 1-2 time steps at a time for different res cases\n",
    "# Look at dz and dt separately"
   ]
  },
  {
   "attachments": {},
   "cell_type": "markdown",
   "metadata": {},
   "source": [
    "# Code"
   ]
  },
  {
   "attachments": {},
   "cell_type": "markdown",
   "metadata": {},
   "source": [
    "Import libraries"
   ]
  },
  {
   "cell_type": "code",
   "execution_count": 2,
   "metadata": {},
   "outputs": [],
   "source": [
    "import os\n",
    "import numpy as np\n",
    "import matplotlib.pyplot as plt\n",
    "import pandas as pd\n",
    "from scipy.special import erf\n",
    "%matplotlib inline\n",
    " \n",
    "# Font style for plotting\n",
    "# plt.rcParams[\"font.family\"] = \"Georgia\"\n",
    "# plt.rcParams[\"font.size\"] = 10"
   ]
  },
  {
   "cell_type": "markdown",
   "metadata": {},
   "source": [
    "Grid"
   ]
  },
  {
   "cell_type": "code",
   "execution_count": 3,
   "metadata": {},
   "outputs": [
    {
     "name": "stdout",
     "output_type": "stream",
     "text": [
      "z_K:\t0.0,\t-0.5,\t...,\t-99.5\n",
      "z:\t-0.25,\t-0.75,\t...,\t-99.75\n",
      "hours of simulation: 55.6\n"
     ]
    }
   ],
   "source": [
    "# Time\n",
    "T = 200000                          # total seconds\n",
    "dt = 0.25                              # time step\n",
    "Nt = int(T/dt)                      # number of time steps\n",
    "\n",
    "# Space\n",
    "Z = 100                             # total meters deep\n",
    "dz = 0.5                           # step in z\n",
    "Nz = int(Z/dz)                      # number of grid nodes\n",
    "z_K = np.arange(0, -Z, -dz)         # z array from [0, -100]\n",
    "z = (z_K - (dz/2))                  # z array for K, staggered as i + 1/2\n",
    "\n",
    "# Print info\n",
    "print(f\"z_K:\\t{z_K[0]},\\t{z_K[1]},\\t...,\\t{z_K[-1]}\")   # start 0\n",
    "print(f\"z:\\t{z[0]},\\t{z[1]},\\t...,\\t{z[-1]}\")           # start at -0.5 below (dz*0.5 below surface)\n",
    "print(f\"hours of simulation: {round(T/60/60,1)}\")"
   ]
  },
  {
   "cell_type": "markdown",
   "metadata": {},
   "source": [
    "Constants"
   ]
  },
  {
   "cell_type": "code",
   "execution_count": 4,
   "metadata": {},
   "outputs": [],
   "source": [
    "f = 7 * 10 ** (-5)                  # coriolis parameter\n",
    "tau_x_over_rho = 10 ** (-4)         # wind stress (tau_x / rho)\n",
    "tau_y_over_rho = 0                  # wind stress (tau_y / rho)\n",
    "ug, vg = 0, 0                       # geostrophic velocity\n",
    "threshold_epsilon = 0.10            # nondimensional extent of surface layer"
   ]
  },
  {
   "cell_type": "markdown",
   "metadata": {},
   "source": [
    "LES data"
   ]
  },
  {
   "cell_type": "code",
   "execution_count": 5,
   "metadata": {},
   "outputs": [],
   "source": [
    "# Create dataframe of LES runs data\n",
    "LES_runs = pd.read_csv(f\"{os.getcwd()}/LES_runs/all_LES_runs.txt\", sep=None, engine=\"python\").rename({\"A\" : \"Lambda\"}, axis = 1)\n",
    "LES_runs['h'] = [-66.8,-67.5,-60,-60,-66.8,-61.9, -63.8, -64.5, -64.9, -68.2, -62.2, -64.9, -58.5]          # Add h (boundary layer depth) values from paper\n",
    "LES_runs['h_e'] = [-55.9, -57, -49.9, -50.2, -55.1, -52.5, -54.4,-54.8, -54.8, -56.2, -52.9, -55.1, -48.1]  # Add h_E (entrainment layer depth) values from paper\n",
    "LES_runs['La_SL'] = [0.28,0.52,1.70,0,0.69,0.51,0,1.74,0.75,3.47,1.51,0.51,0]                               # Add La_SL (surface langmuir) values from paper\n",
    "\n",
    "run_names = np.array(LES_runs['Name'])\n",
    "file_names = [\"wu00L02\",\"wu00L03\",\"wu00L10\",\"wu00Lin\",\"wu00L04\",\"wu01L03\",\"wu01Lin\",\"wu01L10\",\"wu02L04\",\"wu03L20\",\"wu10L09\",\"wu20L03\",\"wu0inLna\"]\n",
    "path =f\"{os.getcwd()}/LES_runs/\"\n",
    "files = LES_runs[\"File\"].values\n",
    "\n",
    "df = {}\n",
    "for run_name, file, file_name in zip(run_names, files, file_names):\n",
    "        df[run_name] = pd.read_csv(path + file)"
   ]
  },
  {
   "cell_type": "markdown",
   "metadata": {},
   "source": [
    "Define K using LES for comparison"
   ]
  },
  {
   "cell_type": "code",
   "execution_count": 6,
   "metadata": {},
   "outputs": [],
   "source": [
    "def H(x): # Heaviside function used to get nonlocal flux\n",
    "    if isinstance(x, (float, int)):\n",
    "        return 1 if x >= 0 else 0\n",
    "    else:\n",
    "        return [H(xi) for xi in x]\n",
    "\n",
    "def getK(run_name, ons):\n",
    "    # Set up to plot K and Gs\n",
    "    fig, (ax1, ax2) = plt.subplots(1, 2, figsize=(7, 3))\n",
    "    fig.tight_layout(pad=1.5)\n",
    "\n",
    "    # Scalars from LES runs\n",
    "    u_star  = LES_runs.loc[LES_runs[\"Name\"]==run_name][\"u_star\"].squeeze()\n",
    "    h       = LES_runs.loc[LES_runs[\"Name\"]==run_name][\"h\"].squeeze()       # Added manually from table in paper\n",
    "    h_e     = LES_runs.loc[LES_runs[\"Name\"]==run_name][\"h_e\"].squeeze()     # Added manually from table in paper\n",
    "    B_s     = LES_runs.loc[LES_runs[\"Name\"]==run_name][\"B_s\"].squeeze()\n",
    "    B_s     = B_s / 17.6                                                    # Correction from Tomas\n",
    "    La_SL   = LES_runs.loc[LES_runs[\"Name\"]==run_name][\"La_SL\"].squeeze()   # Added manually from table in paper\n",
    "    Lambda  = LES_runs.loc[LES_runs[\"Name\"]==run_name][\"Lambda\"].squeeze()\n",
    "    La_t    = LES_runs.loc[LES_runs[\"Name\"]==run_name][\"La_t\"].squeeze()    # Added manually from table in paper\n",
    "    \n",
    "    h = h_e\n",
    "\n",
    "    # Terms defined in paper\n",
    "    kappa = 0.4\n",
    "    u_s = kappa * u_star\n",
    "    sigma = z_K/h\n",
    "    Gn = sigma * (1 - sigma) ** 2\n",
    "    c4, c5, c6 = 45, -33, 9\n",
    "    Gl = sigma * (1 - sigma)**2 * (1 + c4 * sigma + c5 * (sigma + sigma **2) + c6 * (3*sigma + 2*sigma**2 + sigma**3))\n",
    "    Gk = Gn if (Lambda < 10 ** -3 and La_t > 10) else Gl\n",
    "    Gk = Gn\n",
    "    tau_x_over_rho = u_star ** 2\n",
    "    \n",
    "    # Create K\n",
    "    K = u_s * np.abs(h) * Gk\n",
    "\n",
    "    # Enhancement parameters\n",
    "    phi, epsilon, gamma = np.ones_like(K), np.ones_like(K), np.zeros_like(K)\n",
    "\n",
    "    # CONVECTION %%%%%%%%%%%%%%%%%%%%%%%%%%%%%%%%%%%%%%%%%%%%%%%%%%%%%%%%%%%%%%%%%%\n",
    "    if \"phi_on\" in ons:  # Convection term\n",
    "        zeta = np.zeros_like(sigma)\n",
    "\n",
    "        # Create zeta array, or set to one if no convection\n",
    "        if B_s: # Surface buoyancy\n",
    "            L_o = (u_star ** 3)/(kappa*B_s)\n",
    "            if L_o:\n",
    "                zeta = z_K / L_o\n",
    "            else:\n",
    "                print(\"phi on, B_s, but no L_o\")\n",
    "        else:\n",
    "            print(\"phi on but no B_s\")\n",
    "        \n",
    "        phi = np.ones_like(sigma) # Create array of ones\n",
    "    \n",
    "        # Eq. B1 from Large, et al\n",
    "        if any(zeta):\n",
    "            for i in range(len(zeta)):\n",
    "                if zeta[i] >= 0:                            # Eq. B1a\n",
    "                    phi[i] = 1 + 5*zeta[i]\n",
    "                elif zeta[i] >= -0.2 and zeta[i] < 0:       # Eq. B1b\n",
    "                    phi[i] = (1-16*zeta[i])**(-1/4)\n",
    "                elif zeta[i] < -0.2:                        # Eq. B1c\n",
    "                    phi[i] = (1.26-8.38*zeta[i])**(-1/3)\n",
    "        \n",
    "        # Cap phi at its value at sigma = 0.1\n",
    "        for i in range(len(sigma)):\n",
    "            if sigma[i] >= 0.1:\n",
    "                phi[i:] = phi[i]\n",
    "                break\n",
    "        K = K / phi\n",
    "    \n",
    "    # MOMENTUM %%%%%%%%%%%%%%%%%%%%%%%%%%%%%%%%%%%%%%%%%%%%%%%%%%%%%%%%%%%%%%%%%%%%\n",
    "    if \"epsilon_on\" in ons:  # Wave momentum term\n",
    "        # Reichl et al (2016) formulation\n",
    "        if La_SL: # La_SL is shown in the paper for only 10 of the 13 LES runs; don't calculate epsilon for omitted runs (yet)\n",
    "            epsilon_prime = min(2.25, 1 + 1/La_SL)\n",
    "            epsilon = 1 + (epsilon_prime - 1) * (Gn / max(Gn))\n",
    "        else:\n",
    "            print(\"eps on, but no La_SL found.\")\n",
    "        K = K * epsilon\n",
    "\n",
    "    # NONLOCAL FLUX %%%%%%%%%%%%%%%%%%%%%%%%%%%%%%%%%%%%%%%%%%%%%%%%%%%%%%%%%%%%%%%\n",
    "    if \"gamma_on\" in ons:    # Nonlocal flux term\n",
    "        gs = 2 * (sigma - 0.2) * (1 - sigma) ** 2 * H(sigma - 0.2)\n",
    "        Lambda_c = kappa\n",
    "        L1 = 0.95\n",
    "        C1 = 1.95\n",
    "        C2 = 1.82\n",
    "        La_c = 10\n",
    "        Langmuir = L1 * (1 - H(La_t - La_c))\n",
    "        Convection = C1 * H(Lambda) * (1+erf(C2 * (Lambda - Lambda_c)))/2\n",
    "        Gs = (Langmuir + Convection) * gs\n",
    "        # Cap Gs at its value at sigma = 0.1\n",
    "        for i in range(len(sigma)):\n",
    "            if sigma[i] >= 1:\n",
    "                Gs[i:] = Gs[i]\n",
    "                break\n",
    "        gamma = Gs\n",
    "\n",
    "    # Modify K\n",
    "    for i in range(len(K)):\n",
    "        if sigma[i] > 1:\n",
    "            K[i] = 0\n",
    "    \n",
    "    ax1.plot(K, -sigma)\n",
    "    ax1.set_ylabel(\"-$\\sigma$\")\n",
    "    ax1.set_xlabel(\"K\")\n",
    "    ax1.set_title(\"K\")\n",
    "\n",
    "    ax2.plot(gamma, -sigma)\n",
    "    ax2.set_xlabel(\"gamma\")\n",
    "    ax2.set_title(\"gamma\")\n",
    "\n",
    "    return tau_x_over_rho, K, sigma, phi, gamma"
   ]
  },
  {
   "cell_type": "markdown",
   "metadata": {},
   "source": [
    "Main loop"
   ]
  },
  {
   "cell_type": "code",
   "execution_count": 7,
   "metadata": {},
   "outputs": [],
   "source": [
    "# Functions to use in the loop\n",
    "def F(u_val, v_val, K, tau_x_over_rho, tau_y_over_rho, gamma):\n",
    "    F_u, F_v = np.zeros(Nz), np.zeros(Nz)\n",
    "\n",
    "    # Interior nodes\n",
    "    F_u[1:-1] =  (f * (v_val[1:-1] - vg) + ((1/dz**2) * (K[1:-1])*((u_val[:-2] - u_val[1:-1])) - (K[2:]*((u_val[1:-1] - u_val[2:])))) - 1/dz * tau_x_over_rho * (gamma[2:] - gamma[1:-1]))\n",
    "    F_v[1:-1] = (-f * (u_val[1:-1] - ug) + ((1/dz**2) * (K[1:-1])*((v_val[:-2] - v_val[1:-1])) - (K[2:]*((v_val[1:-1] - v_val[2:])))) - 1/dz * tau_y_over_rho * (gamma[2:] - gamma[1:-1]))\n",
    "\n",
    "    return F_u[1:-1], F_v[1:-1]\n",
    "\n",
    "def BC(u_val, v_val, K, tau_x_over_rho, tau_y_over_rho):\n",
    "    # Boundaries\n",
    "    F_u_top =  (f * (v_val[0] - vg) + (1/dz) * (tau_x_over_rho - (K[1]/dz) * (u_val[0] - u_val[1])))\n",
    "    F_v_top = (-f * (u_val[0] - ug) + (1/dz) * (tau_y_over_rho - (K[1]/dz) * (v_val[0] - v_val[1])))\n",
    "\n",
    "    return F_u_top, F_v_top"
   ]
  },
  {
   "cell_type": "code",
   "execution_count": 8,
   "metadata": {},
   "outputs": [],
   "source": [
    "saverate = 5\n",
    "\n",
    "def runLoop(run_name, testing=False, get_saved=False):\n",
    "    print(run_name, \"———————————————————————\")\n",
    "    LES_u, LES_v = df[run_name][\"u\"][::int(3/dz)], df[run_name][\"v\"][::int(3/dz)]\n",
    "    velocities, errors  , saved = [], [], []\n",
    "\n",
    "    # Test enhancement factors\n",
    "    if testing:\n",
    "        tests = [{\"epsilon_on\", \"phi_on\", \"gamma_on\"},   # eps phi gamma\n",
    "                 {\"epsilon_on\", \"phi_on\"},               # eps phi\n",
    "                 {\"epsilon_on\"},                         # eps\n",
    "                 {\"phi_on\"},                             # phi\n",
    "                 {}                                      # none\n",
    "                ]\n",
    "    else:\n",
    "        tests = [{\"epsilon_on\", \"phi_on\", \"gamma_on\"}]\n",
    "\n",
    "    for test in tests:\n",
    "        print(test)\n",
    "\n",
    "        tau_x_over_rho, K, sigma, phi, gamma = getK(run_name, test)\n",
    "\n",
    "        # Initialize arrays for next time step\n",
    "        u,       v       = np.zeros(Nz), np.zeros(Nz)\n",
    "        u_1,     v_1     = np.zeros(Nz), np.zeros(Nz)\n",
    "        u_2,     v_2     = np.zeros(Nz), np.zeros(Nz)\n",
    "        u_3,     v_3     = np.zeros(Nz), np.zeros(Nz)\n",
    "        u_fut,   v_fut   = np.zeros(Nz), np.zeros(Nz)\n",
    "        u_saved, v_saved = np.zeros((Nz, int(Nt/saverate))), np.zeros((Nz, int(Nt/saverate)))\n",
    "        tau_y_over_rho   = 0\n",
    "\n",
    "        # RK4\n",
    "        for n in np.arange(0, T, dt):  # Loop thru time, Nt times\n",
    "            \n",
    "            # Intermediate 1\n",
    "            F_u,  F_v  = F(u, v, K, tau_x_over_rho, tau_y_over_rho, gamma)\n",
    "            BC_u, BC_v = BC(u, v, K, tau_x_over_rho, tau_y_over_rho)\n",
    "            u_1[1:-1] = u[1:-1] + (dt/2) * F_u            # [0] gives the u array\n",
    "            v_1[1:-1] = v[1:-1] + (dt/2) * F_v            # [1] gives the v array \n",
    "            u_1[0]    = u[0]    + (dt/2) * BC_u\n",
    "            v_1[0]    = v[0]    + (dt/2) * BC_v\n",
    "            u_1[-1], v_1[-1] = ug, vg\n",
    "            \n",
    "            # Intermediate 2\n",
    "            F_u_1,  F_v_1  = F(u_1, v_1, K, tau_x_over_rho, tau_y_over_rho, gamma)\n",
    "            BC_u_1, BC_v_1 = BC(u_1, v_1, K, tau_x_over_rho, tau_y_over_rho)\n",
    "            u_2[1:-1] = u[1:-1] + (dt/2) * F_u_1\n",
    "            v_2[1:-1] = v[1:-1] + (dt/2) * F_v_1\n",
    "            u_2[0]    = u[0]    + (dt/2) * BC_u_1\n",
    "            v_2[0]    = v[0]    + (dt/2) * BC_v_1\n",
    "            u_2[-1], v_2[-1] = ug, vg\n",
    "\n",
    "            # Intermediate 3\n",
    "            F_u_2,  F_v_2  = F(u_2, v_2, K, tau_x_over_rho, tau_y_over_rho, gamma)\n",
    "            BC_u_2, BC_v_2 = BC(u_2, v_2, K, tau_x_over_rho, tau_y_over_rho)\n",
    "            u_3[1:-1] = u[1:-1] + (dt) * F_u_2\n",
    "            v_3[1:-1] = v[1:-1] + (dt) * F_v_2\n",
    "            u_3[0]    = u[0]    + (dt) * BC_u_2\n",
    "            v_3[0]    = v[0]    + (dt) * BC_v_2\n",
    "            u_3[-1], v_3[-1] = ug, vg\n",
    "\n",
    "            # Next velocity vector in time\n",
    "            F_u_3,  F_v_3  = F(u_3, v_3, K, tau_x_over_rho, tau_y_over_rho, gamma)\n",
    "            BC_u_3, BC_v_3 = BC(u_3, v_3, K, tau_x_over_rho, tau_y_over_rho)\n",
    "            u_fut[1:-1] = u[1:-1] + (dt/6) * (F_u  + 2*F_u_1  + 2*F_u_2  + F_u_3)\n",
    "            v_fut[1:-1] = v[1:-1] + (dt/6) * (F_v  + 2*F_v_1  + 2*F_v_2  + F_v_3) \n",
    "            u_fut[0]    = u[0]    + (dt/6) * (BC_u + 2*BC_u_1 + 2*BC_u_2 + BC_u_3)\n",
    "            v_fut[0]    = v[0]    + (dt/6) * (BC_v + 2*BC_v_1 + 2*BC_v_2 + BC_v_3) \n",
    "            u_fut[-1], v_fut[-1] = ug, vg\n",
    "\n",
    "            # Update u and v to restart loop with new starting values\n",
    "            u = np.copy(u_fut)\n",
    "            v = np.copy(v_fut)\n",
    "\n",
    "            # Save history\n",
    "            if n%saverate == 0 and int((n/dt)/saverate) < Nt:\n",
    "                u_saved[:,int((n/dt)/saverate)] = np.copy(u)\n",
    "                v_saved[:,int((n/dt)/saverate)] = np.copy(v)\n",
    "\n",
    "        # Get average value of u and v oscillations\n",
    "        u_avg = np.mean(u_saved[-int(2*np.pi/f):], axis=1)\n",
    "        v_avg = np.mean(v_saved[-int(2*np.pi/f):], axis=1)\n",
    "        print(f\"Finished calculating values.\")\n",
    "\n",
    "        # Get error\n",
    "        error_u, error_v = np.zeros_like(u_avg), np.zeros_like(u_avg),\n",
    "        # error_u, error_v = [np.sqrt(sum((u_avg - LES_u) ** 2))], [np.sqrt(sum((v_avg - LES_v) ** 2))]\n",
    "\n",
    "        velocities.append([u_avg, v_avg])\n",
    "        errors.append([error_u, error_v])\n",
    "        saved.append([u_saved, v_saved])\n",
    "\n",
    "    if not testing:\n",
    "        velocities.append([])\n",
    "        errors.append([])\n",
    "        saved.append([])\n",
    "\n",
    "    return velocities, errors, saved"
   ]
  },
  {
   "cell_type": "markdown",
   "metadata": {},
   "source": [
    "Plots"
   ]
  },
  {
   "cell_type": "markdown",
   "metadata": {},
   "source": [
    "$u$ vs. $v$ hodograph"
   ]
  },
  {
   "cell_type": "code",
   "execution_count": 9,
   "metadata": {},
   "outputs": [],
   "source": [
    "#           0       1   \n",
    "# 0 velocities tuple\n",
    "#   0 epg[u_avg, v_avg]\n",
    "#   1 ep[u_avg,  v_avg]\n",
    "#   2 e[u_avg,   v_avg]\n",
    "#   3 p[u_avg,   v_avg]\n",
    "#   4 n[u_avg,   v_avg] \n",
    "# 1 error tuple\n",
    "#   ...\n",
    "# 2 saved tuple\n",
    "#   ...\n",
    "\n",
    "# --> runs[run][type of value][test suite index][directional index]\n",
    "# type of value: 0 for velocity, 1 for error, 2 for saved\n",
    "# test suite index: 0 for epg, 1 for ep, etc\n",
    "# directional index: 0 for u, 1 for v"
   ]
  },
  {
   "cell_type": "code",
   "execution_count": 10,
   "metadata": {},
   "outputs": [],
   "source": [
    "def PlotHodo(runs, testing=True, save=True, title=None):\n",
    "    print(f\"Test enhancement params = {testing}.\\nSave figs = {save}.\")\n",
    "    tests = [\"ε, φ, γ\", \"ε, φ\", \"ε\", \"φ\", \"None\"]\n",
    "\n",
    "    for run in runs:\n",
    "\n",
    "        LES_u, LES_v                       = df[run]['u'], df[run]['v']\n",
    "        epg_u, epg_v, epg_err_u, epg_err_v = runs[run][0][0][0],  runs[run][0][0][1], runs[run][1][0][0],  runs[run][1][0][1],     # eps phi gam\n",
    "        \n",
    "        plt.figure(figsize=(5,5))\n",
    "        plt.plot(LES_u, LES_v,  color=\"black\", alpha=1.00, ls=\":\", label=f\"LES\")\n",
    "        plt.plot(epg_u, epg_v,  color=\"red\",   alpha=0.75, ls=\"-\", label=f\"{tests[0]}\")\n",
    "\n",
    "        if testing:\n",
    "            ep_u, ep_v, ep_err_u, ep_err_v = runs[run][0][1][0],  runs[run][0][1][1], runs[run][1][1][2],  runs[run][1][1][3],     # eps phi\n",
    "            e_u, e_v, e_err_u, e_err_v     = runs[run][0][2][0],  runs[run][0][2][1], runs[run][1][2][2],  runs[run][1][2][3],     # eps \n",
    "            p_u, p_v, p_err_u, p_err_v     = runs[run][0][3][0],  runs[run][0][3][1], runs[run][1][3][2],  runs[run][1][3][3],     # phi\n",
    "            n_u, n_v, n_err_u, n_err_v     = runs[run][0][4][0],  runs[run][0][4][1], runs[run][1][4][2],  runs[run][1][4][3],     # none\n",
    "\n",
    "            plt.plot(ep_u, ep_v, color=\"orange\",        alpha=0.60, ls=\"-\", label=f\"{tests[1]}\")          \n",
    "            plt.plot(e_u,   e_v, color=\"darkseagreen\",  alpha=0.60, ls=\"-\", label=f\"{tests[2]}\")                      \n",
    "            plt.plot(p_u,   p_v, color=\"slateblue\",     alpha=0.45, ls=\"-\", label=f\"{tests[3]}\")                         \n",
    "            plt.plot(n_u,   n_v, color=\"silver\",        alpha=0.45, ls=\"-\", label=f\"{tests[4]}\")                             \n",
    "\n",
    "        plt.xlabel('u')\n",
    "        plt.ylabel('v')\n",
    "        plt.legend()\n",
    "        plt.title(f\"{run} (dz={dz}, dt={dt})\")\n",
    "\n",
    "        if save:\n",
    "            plt.savefig(f'./plots/hodographs/dz{dz}_dt{dt}/{run}')\n",
    "        plt.show()\n",
    "\n",
    "def PlotProfiles(runs, testing=True, save=True, title=None):\n",
    "    tests = [\"ε, φ, γ\", \"ε, φ\", \"ε\", \"φ\", \"None\"]\n",
    "    fig, (ax1, ax2) = plt.subplots(1, 2, figsize=(8, 4))\n",
    "\n",
    "    for run in runs:\n",
    "\n",
    "        LES_u, LES_v, LES_z                = df[run]['u'],        df[run]['v'],       df[run]['z']\n",
    "        epg_u, epg_v, epg_err_u, epg_err_v = runs[run][0][0][0],  runs[run][0][0][1], runs[run][1][0][0],  runs[run][1][0][1],     # eps phi gam\n",
    "        \n",
    "        print(len(epg_u), len(z))\n",
    "\n",
    "        ax1.plot(LES_u, LES_z,  color=\"black\", alpha=1.00, ls=\":\", label=f\"LES\")\n",
    "        ax1.plot(epg_u, z,  color=\"red\",   alpha=0.75, ls=\"-\", label=f\"{tests[0]}\")\n",
    "        ax1.set_xlabel('u')\n",
    "        ax1.set_ylabel('z')\n",
    "\n",
    "        ax2.plot(LES_v, LES_z,  color=\"black\", alpha=1.00, ls=\":\", label=f\"LES\")\n",
    "        ax2.plot(epg_v, z,  color=\"red\",   alpha=0.75, ls=\"-\", label=f\"{tests[0]}\")\n",
    "        ax2.set_xlabel('v')\n",
    "\n",
    "        if testing:\n",
    "            ep_u, ep_v, ep_err_u, ep_err_v = runs[run][0][1][0],  runs[run][0][1][1], runs[run][1][1][0],  runs[run][1][1][1],     # eps phi\n",
    "            e_u, e_v, e_err_u, e_err_v     = runs[run][0][2][0],  runs[run][0][2][1], runs[run][1][2][0],  runs[run][1][2][1],     # eps \n",
    "            p_u, p_v, p_err_u, p_err_v     = runs[run][0][3][0],  runs[run][0][3][1], runs[run][1][3][0],  runs[run][1][3][1],     # phi\n",
    "            n_u, n_v, n_err_u, n_err_v     = runs[run][0][4][0],  runs[run][0][4][1], runs[run][1][4][0],  runs[run][1][4][1],     # none\n",
    "\n",
    "            ax1.plot(ep_u, z, color=\"orange\",        alpha=0.60, ls=\"-\", label=f\"{tests[1]}\")          \n",
    "            ax1.plot(e_u,  z, color=\"darkseagreen\",  alpha=0.60, ls=\"-\", label=f\"{tests[2]}\")                      \n",
    "            ax1.plot(p_u,  z, color=\"slateblue\",     alpha=0.45, ls=\"-\", label=f\"{tests[3]}\")                         \n",
    "            ax1.plot(n_u,  z, color=\"silver\",        alpha=0.45, ls=\"-\", label=f\"{tests[4]}\")    \n",
    "\n",
    "            ax2.plot(ep_v, z, color=\"orange\",        alpha=0.60, ls=\"-\", label=f\"{tests[1]}\")          \n",
    "            ax2.plot(e_v,  z, color=\"darkseagreen\",  alpha=0.60, ls=\"-\", label=f\"{tests[2]}\")                      \n",
    "            ax2.plot(p_v,  z, color=\"slateblue\",     alpha=0.45, ls=\"-\", label=f\"{tests[3]}\")                         \n",
    "            ax2.plot(n_v,  z, color=\"silver\",        alpha=0.45, ls=\"-\", label=f\"{tests[4]}\")                         \n",
    "\n",
    "\n",
    "        fig.suptitle(f\"{run} (dz={dz}, dt={dt})\")\n",
    "        if save:\n",
    "            plt.savefig(f'./plots/profiles/dz{dz}_dt{dt}/{run}')\n",
    "\n",
    "\n",
    "def TestRun(testdz=dz, testdt=dt, testing=False, save=False):\n",
    "    dz, dt = testdz, testdt\n",
    "    testing = testing\n",
    "    save = save\n",
    "\n",
    "    # Update grid\n",
    "    T = 200001                          # total seconds\n",
    "    Nt = int(T/dt)                      # number of time steps\n",
    "    Z = 101                             # total meters deep\n",
    "    Nz = int(Z/dz)                      # number of grid nodes\n",
    "    z_K = np.arange(0, -Z, -dz)         # z array from [0, -100]\n",
    "    z = (z_K - (dz/2))  \n",
    "\n",
    "    runs = { # run name \n",
    "    #     'Neutral Swell':                [*runLoop('Neutral Swell',               testing=testing)],              \n",
    "    #     'Neutral Wind-Wave Eq.':        [*runLoop('Neutral Wind-Wave Eq.',       testing=testing)],      \n",
    "    #     'Neutral Weak Waves':           [*runLoop('Neutral Weak Waves',          testing=testing)],         \n",
    "    #     'Pure Wind Stress':             [*runLoop('Pure Wind Stress',            testing=testing)],           \n",
    "    #     'Weak Conv + Waves':            [*runLoop('Weak Conv + Waves',           testing=testing)],          \n",
    "    #     'Weak Conv + Wind-Wave Eq.':    [*runLoop('Weak Conv + Wind-Wave Eq.',   testing=testing)],  \n",
    "    #     'Weak Conv + Waveless':         [*runLoop('Weak Conv + Waveless',        testing=testing)],       \n",
    "    #     'Weak Conv+ Weak Waves':        [*runLoop('Weak Conv+ Weak Waves',       testing=testing)],          \n",
    "        'Joint PDF Peak':               [*runLoop('Joint PDF Peak',              testing=testing)],             \n",
    "    #     'Weak Conv + very Weak Waves':  [*runLoop('Weak Conv + very Weak Waves', testing=testing)], \n",
    "    #     'Strong Conv + weak Waves':     [*runLoop('Strong Conv + weak Waves',    testing=testing)],   \n",
    "    #     'Strong Conv + Wind-Wave Eq':   [*runLoop('Strong Conv + Wind-Wave Eq',  testing=testing)],  \n",
    "    #     'Pure Convection':              [*runLoop('Pure Convection',             testing=testing)]\n",
    "    }\n",
    "    PlotProfiles(runs, testing, save)\n",
    "    PlotHodo(runs, testing, save)"
   ]
  },
  {
   "cell_type": "markdown",
   "metadata": {},
   "source": [
    "________"
   ]
  },
  {
   "cell_type": "code",
   "execution_count": 11,
   "metadata": {},
   "outputs": [],
   "source": [
    "testing = False\n",
    "save    = False"
   ]
  },
  {
   "cell_type": "code",
   "execution_count": 12,
   "metadata": {},
   "outputs": [
    {
     "name": "stdout",
     "output_type": "stream",
     "text": [
      "Joint PDF Peak ———————————————————————\n",
      "{'phi_on', 'gamma_on', 'epsilon_on'}\n"
     ]
    }
   ],
   "source": [
    "runs = { # run name \n",
    "    # 'Neutral Swell':                [*runLoop('Neutral Swell',               testing=testing)],              \n",
    "#     'Neutral Wind-Wave Eq.':        [*runLoop('Neutral Wind-Wave Eq.',       testing=testing)],      \n",
    "#     'Neutral Weak Waves':           [*runLoop('Neutral Weak Waves',          testing=testing)],         \n",
    "#     'Pure Wind Stress':             [*runLoop('Pure Wind Stress',            testing=testing)],           \n",
    "#     'Weak Conv + Waves':            [*runLoop('Weak Conv + Waves',           testing=testing)],          \n",
    "#     'Weak Conv + Wind-Wave Eq.':    [*runLoop('Weak Conv + Wind-Wave Eq.',   testing=testing)],  \n",
    "#     'Weak Conv + Waveless':         [*runLoop('Weak Conv + Waveless',        testing=testing)],       \n",
    "    # 'Weak Conv+ Weak Waves':        [*runLoop('Weak Conv+ Weak Waves',       testing=testing)],          \n",
    "    'Joint PDF Peak':               [*runLoop('Joint PDF Peak',              testing=testing)],             \n",
    "#     'Weak Conv + very Weak Waves':  [*runLoop('Weak Conv + very Weak Waves', testing=testing)], \n",
    "#     'Strong Conv + weak Waves':     [*runLoop('Strong Conv + weak Waves',    testing=testing)],   \n",
    "#     'Strong Conv + Wind-Wave Eq':   [*runLoop('Strong Conv + Wind-Wave Eq',  testing=testing)],  \n",
    "#     'Pure Convection':              [*runLoop('Pure Convection',             testing=testing)]\n",
    "}\n",
    "# PlotProfiles(runs, testing, save)\n",
    "# PlotHodo(runs, testing, save)"
   ]
  },
  {
   "cell_type": "code",
   "execution_count": null,
   "metadata": {},
   "outputs": [
    {
     "name": "stdout",
     "output_type": "stream",
     "text": [
      "200 200\n",
      "Test enhancement params = False.\n",
      "Save figs = False.\n"
     ]
    },
    {
     "data": {
      "image/png": "[encoded data removed]",
      "text/plain": [
       "<Figure size 800x400 with 2 Axes>"
      ]
     },
     "metadata": {},
     "output_type": "display_data"
    },
    {
     "data": {
      "image/png": "[encoded data removed]",
      "text/plain": [
       "<Figure size 500x500 with 1 Axes>"
      ]
     },
     "metadata": {},
     "output_type": "display_data"
    }
   ],
   "source": [
    "PlotProfiles(runs, testing, save)\n",
    "PlotHodo(runs, testing, save)"
   ]
  },
  {
   "cell_type": "code",
   "execution_count": null,
   "metadata": {},
   "outputs": [
    {
     "name": "stdout",
     "output_type": "stream",
     "text": [
      "101 200001\n",
      "Joint PDF Peak ———————————————————————\n",
      "{'gamma_on', 'phi_on', 'epsilon_on'}\n",
      "Finished calculating values.\n",
      "In PlotProfiles, dt = 0.25, dz = 0.5.\n",
      "Test enhancement params = False.\n",
      "Save figs = False.\n"
     ]
    },
    {
     "ename": "IndexError",
     "evalue": "list index out of range",
     "output_type": "error",
     "traceback": [
      "\u001b[1;31m---------------------------------------------------------------------------\u001b[0m",
      "\u001b[1;31mIndexError\u001b[0m                                Traceback (most recent call last)",
      "Cell \u001b[1;32mIn[98], line 1\u001b[0m\n\u001b[1;32m----> 1\u001b[0m \u001b[43mTestRun\u001b[49m\u001b[43m(\u001b[49m\u001b[38;5;241;43m1\u001b[39;49m\u001b[43m,\u001b[49m\u001b[38;5;241;43m1\u001b[39;49m\u001b[43m)\u001b[49m\n\u001b[0;32m      2\u001b[0m TestRun(\u001b[38;5;241m0.75\u001b[39m,\u001b[38;5;241m1\u001b[39m)\n\u001b[0;32m      3\u001b[0m TestRun(\u001b[38;5;241m0.75\u001b[39m,\u001b[38;5;241m0.75\u001b[39m)\n",
      "Cell \u001b[1;32mIn[95], line 149\u001b[0m, in \u001b[0;36mTestRun\u001b[1;34m(testdz, testdt, testing, save)\u001b[0m\n\u001b[0;32m    133\u001b[0m runs \u001b[38;5;241m=\u001b[39m { \u001b[38;5;66;03m# run name \u001b[39;00m\n\u001b[0;32m    134\u001b[0m \u001b[38;5;66;03m#     'Neutral Swell':                [*runLoop('Neutral Swell',               testing=testing)],              \u001b[39;00m\n\u001b[0;32m    135\u001b[0m \u001b[38;5;66;03m#     'Neutral Wind-Wave Eq.':        [*runLoop('Neutral Wind-Wave Eq.',       testing=testing)],      \u001b[39;00m\n\u001b[1;32m   (...)\u001b[0m\n\u001b[0;32m    146\u001b[0m \u001b[38;5;66;03m#     'Pure Convection':              [*runLoop('Pure Convection',             testing=testing)]\u001b[39;00m\n\u001b[0;32m    147\u001b[0m }\n\u001b[0;32m    148\u001b[0m title \u001b[38;5;241m=\u001b[39m \u001b[38;5;124mf\u001b[39m\u001b[38;5;124m\"\u001b[39m\u001b[38;5;124m (dz=\u001b[39m\u001b[38;5;132;01m{\u001b[39;00mdz\u001b[38;5;132;01m}\u001b[39;00m\u001b[38;5;124m, dt=\u001b[39m\u001b[38;5;132;01m{\u001b[39;00mdt\u001b[38;5;132;01m}\u001b[39;00m\u001b[38;5;124m)\u001b[39m\u001b[38;5;124m\"\u001b[39m\n\u001b[1;32m--> 149\u001b[0m \u001b[43mPlotProfiles\u001b[49m\u001b[43m(\u001b[49m\u001b[43mruns\u001b[49m\u001b[43m,\u001b[49m\u001b[43m \u001b[49m\u001b[43mtesting\u001b[49m\u001b[43m,\u001b[49m\u001b[43m \u001b[49m\u001b[43msave\u001b[49m\u001b[43m,\u001b[49m\u001b[43m \u001b[49m\u001b[43mtitle\u001b[49m\u001b[43m)\u001b[49m\n\u001b[0;32m    150\u001b[0m PlotHodo(runs, testing, save, title)\n",
      "Cell \u001b[1;32mIn[95], line 118\u001b[0m, in \u001b[0;36mPlotProfiles\u001b[1;34m(runs, testing, save, title)\u001b[0m\n\u001b[0;32m    116\u001b[0m \u001b[38;5;28mprint\u001b[39m(\u001b[38;5;124mf\u001b[39m\u001b[38;5;124m\"\u001b[39m\u001b[38;5;124mIn PlotProfiles, dt = \u001b[39m\u001b[38;5;132;01m{\u001b[39;00mdt\u001b[38;5;132;01m}\u001b[39;00m\u001b[38;5;124m, dz = \u001b[39m\u001b[38;5;132;01m{\u001b[39;00mdz\u001b[38;5;132;01m}\u001b[39;00m\u001b[38;5;124m.\u001b[39m\u001b[38;5;124m\"\u001b[39m)\n\u001b[0;32m    117\u001b[0m \u001b[38;5;28mprint\u001b[39m(\u001b[38;5;124mf\u001b[39m\u001b[38;5;124m\"\u001b[39m\u001b[38;5;124mTest enhancement params = \u001b[39m\u001b[38;5;132;01m{\u001b[39;00mtesting\u001b[38;5;132;01m}\u001b[39;00m\u001b[38;5;124m.\u001b[39m\u001b[38;5;130;01m\\n\u001b[39;00m\u001b[38;5;124mSave figs = \u001b[39m\u001b[38;5;132;01m{\u001b[39;00msave\u001b[38;5;132;01m}\u001b[39;00m\u001b[38;5;124m.\u001b[39m\u001b[38;5;124m\"\u001b[39m)\n\u001b[1;32m--> 118\u001b[0m \u001b[43mPlotProfiles_u\u001b[49m\u001b[43m(\u001b[49m\u001b[43mruns\u001b[49m\u001b[43m,\u001b[49m\u001b[43m \u001b[49m\u001b[43mtesting\u001b[49m\u001b[43m,\u001b[49m\u001b[43m \u001b[49m\u001b[43msave\u001b[49m\u001b[43m,\u001b[49m\u001b[43m \u001b[49m\u001b[43mtitle\u001b[49m\u001b[38;5;241;43m=\u001b[39;49m\u001b[43mtitle\u001b[49m\u001b[43m)\u001b[49m\n\u001b[0;32m    119\u001b[0m PlotProfiles_v(runs, testing, save, title\u001b[38;5;241m=\u001b[39mtitle)\n",
      "Cell \u001b[1;32mIn[95], line 44\u001b[0m, in \u001b[0;36mPlotProfiles_u\u001b[1;34m(runs, testing, save, title)\u001b[0m\n\u001b[0;32m     41\u001b[0m \u001b[38;5;28;01mfor\u001b[39;00m run \u001b[38;5;129;01min\u001b[39;00m runs:\n\u001b[0;32m     43\u001b[0m     LES_u, LES_v, LES_z                \u001b[38;5;241m=\u001b[39m df[run][\u001b[38;5;124m'\u001b[39m\u001b[38;5;124mu\u001b[39m\u001b[38;5;124m'\u001b[39m],        df[run][\u001b[38;5;124m'\u001b[39m\u001b[38;5;124mv\u001b[39m\u001b[38;5;124m'\u001b[39m],       df[run][\u001b[38;5;124m'\u001b[39m\u001b[38;5;124mz\u001b[39m\u001b[38;5;124m'\u001b[39m]\n\u001b[1;32m---> 44\u001b[0m     epg_u, epg_v, epg_err_u, epg_err_v \u001b[38;5;241m=\u001b[39m runs[run][\u001b[38;5;241m1\u001b[39m][\u001b[38;5;241m0\u001b[39m][\u001b[38;5;241m0\u001b[39m],  runs[run][\u001b[38;5;241m1\u001b[39m][\u001b[38;5;241m0\u001b[39m][\u001b[38;5;241m1\u001b[39m], \u001b[43mruns\u001b[49m\u001b[43m[\u001b[49m\u001b[43mrun\u001b[49m\u001b[43m]\u001b[49m\u001b[43m[\u001b[49m\u001b[38;5;241;43m1\u001b[39;49m\u001b[43m]\u001b[49m\u001b[43m[\u001b[49m\u001b[38;5;241;43m0\u001b[39;49m\u001b[43m]\u001b[49m\u001b[43m[\u001b[49m\u001b[38;5;241;43m2\u001b[39;49m\u001b[43m]\u001b[49m,  runs[run][\u001b[38;5;241m1\u001b[39m][\u001b[38;5;241m0\u001b[39m][\u001b[38;5;241m3\u001b[39m],     \u001b[38;5;66;03m# eps phi gam\u001b[39;00m\n\u001b[0;32m     46\u001b[0m     \u001b[38;5;28mprint\u001b[39m(\u001b[38;5;28mlen\u001b[39m(epg_u), \u001b[38;5;28mlen\u001b[39m(z))\n\u001b[0;32m     48\u001b[0m     ax1\u001b[38;5;241m.\u001b[39mplot(LES_u, LES_z,  color\u001b[38;5;241m=\u001b[39m\u001b[38;5;124m\"\u001b[39m\u001b[38;5;124mblack\u001b[39m\u001b[38;5;124m\"\u001b[39m, alpha\u001b[38;5;241m=\u001b[39m\u001b[38;5;241m1.00\u001b[39m, ls\u001b[38;5;241m=\u001b[39m\u001b[38;5;124m\"\u001b[39m\u001b[38;5;124m:\u001b[39m\u001b[38;5;124m\"\u001b[39m, label\u001b[38;5;241m=\u001b[39m\u001b[38;5;124mf\u001b[39m\u001b[38;5;124m\"\u001b[39m\u001b[38;5;124mLES\u001b[39m\u001b[38;5;124m\"\u001b[39m)\n",
      "\u001b[1;31mIndexError\u001b[0m: list index out of range"
     ]
    },
    {
     "data": {
      "image/png": "[encoded data removed]",
      "text/plain": [
       "<Figure size 700x300 with 2 Axes>"
      ]
     },
     "metadata": {},
     "output_type": "display_data"
    },
    {
     "data": {
      "image/png": "[encoded data removed]",
      "text/plain": [
       "<Figure size 1000x500 with 2 Axes>"
      ]
     },
     "metadata": {},
     "output_type": "display_data"
    }
   ],
   "source": [
    "TestRun(1,1)\n",
    "TestRun(0.75,1)\n",
    "TestRun(0.75,0.75)\n",
    "TestRun(0.5,0.5)\n",
    "TestRun(0.25,0.25)\n",
    "TestRun(0.25,0.15)\n",
    "TestRun(0.25,0.1)\n",
    "TestRun(0.25,0.05)\n",
    "TestRun(0.25,0.01)"
   ]
  },
  {
   "cell_type": "code",
   "execution_count": null,
   "metadata": {},
   "outputs": [],
   "source": [
    "# # run array format: NAME, model_u, model_v, LES_u, LES_v, model_u_saved, model_v_saved\n",
    "\n",
    "\n",
    "# def PlotTimeEvolution(run1=None, run2=None, run3=None, run4=None, depths=[1,10,30,50,90]):\n",
    "#     for run in [run1, run2, run3, run4]:\n",
    "#         print(f\"%% {run[0]} %%%%%%%%%%%%%%%%%%%%%%%%%%%%%%%%%%%%%%%%%%%%%%\")\n",
    "#         run_name, u_avg, v_avg, u_sol, v_sol, u_saved, v_saved = *run,\n",
    "\n",
    "#         for depth in depths:\n",
    "#             # Model plot\n",
    "#             # plt.figure(figsize=(4,4))\n",
    "#             plt.plot(u_saved[depth+1,2:-1], label=\"u(z), Model\", color=\"green\", alpha=0.25)\n",
    "#             plt.plot(v_saved[depth+1,2:-1], label=\"v(z), Model\", color=\"darkblue\", alpha=0.25)\n",
    "\n",
    "#             plt.axhline(u_avg[depth+1], label=\"u(z), Model Avg'd\", color=\"green\", alpha=0.25, ls=\"--\")\n",
    "#             plt.axhline(v_avg[depth+1], label=\"v(z), Model Avg'd\", color=\"darkblue\", alpha=0.25, ls=\"--\")\n",
    "\n",
    "#             # Analytical plot\n",
    "#             plt.axhline(u_sol[depth], label=\"u(z), Analytical\", color=\"darkgreen\")\n",
    "#             plt.axhline(v_sol[depth], label=\"v(z), Analytical\", color=\"indigo\")\n",
    "\n",
    "#             # Plot labels\n",
    "#             plt.xlabel(f\"time steps (dt={dt})\")\n",
    "#             plt.ylabel(f\"$u_{depth}, v_{depth}$\")\n",
    "#             plt.title(f\"{run[0]}: Time evolution of u and v at depth z = {depth}\")\n",
    "#             plt.legend(bbox_to_anchor=[1.35,0.5])\n",
    "#             plt.show()\n",
    "\n",
    "# PlotTimeEvolution(*runs)"
   ]
  }
 ],
 "metadata": {
  "kernelspec": {
   "display_name": "aos-180",
   "language": "python",
   "name": "python3"
  },
  "language_info": {
   "codemirror_mode": {
    "name": "ipython",
    "version": 3
   },
   "file_extension": ".py",
   "mimetype": "text/x-python",
   "name": "python",
   "nbconvert_exporter": "python",
   "pygments_lexer": "ipython3",
   "version": "3.11.3"
  },
  "orig_nbformat": 4
 },
 "nbformat": 4,
 "nbformat_minor": 2
}
