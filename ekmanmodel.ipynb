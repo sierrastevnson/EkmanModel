{
 "cells": [
  {
   "attachments": {},
   "cell_type": "markdown",
   "metadata": {},
   "source": [
    "### Numerical Model for Ocean Flow\n",
    "Sierra Stevenson under mentorship of Dr. Marcelo Chamecki"
   ]
  },
  {
   "cell_type": "markdown",
   "metadata": {},
   "source": [
    "We are solving the system of equations\n",
    "\n",
    "$$\n",
    "\\begin{cases}\n",
    "\n",
    "\\frac{\\partial{\\bar{u}}}{\\partial{t}} &= f(\\bar{v} - v_g) + \\frac{\\partial{k}}{\\partial{z}}  \\frac{\\partial{\\bar{u}}}{\\partial{z}} + k \\frac{\\partial{^2\\bar{u}}}{\\partial{z^2}} \n",
    "\\\\\n",
    "\\frac{\\partial{\\bar{v}}}{\\partial{t}} &= f(\\bar{u} - u_g) + \\frac{\\partial{k}}{\\partial{z}}  \\frac{\\partial{\\bar{v}}}{\\partial{z}} + k \\frac{\\partial{^2\\bar{v}}}{\\partial{z^2}}\n",
    "\n",
    "\\end{cases}\n",
    "$$\n",
    "\n",
    "with boundary conditions\n",
    "\n",
    "*surface ($z=0$):*  $k \\frac{\\partial{\\bar{u}}}{\\partial{z}} = \\frac{T_x}{\\rho}$,  $k \\frac{\\partial{\\bar{v}}}{\\partial{z}} = \\frac{T_y}{\\rho}$\n",
    "\n",
    "*bottom ($z=-\\infty$):* $\\bar{u} = u_g, \\bar{v} = v_g$\n"
   ]
  },
  {
   "cell_type": "markdown",
   "metadata": {},
   "source": [
    "___\n",
    "<center>\n",
    "Centered discretization <p>\n",
    "\n",
    "$$\n",
    "\\begin{align}\n",
    "\n",
    "\\frac{\\partial u_i}{\\partial t} &= f (v_i - v_g) - \\frac{1}{\\Delta z} \\biggr[-K_i \\Bigl(\\frac{\\partial u}{\\partial z}\\Bigr)_{i-\\frac{1}{2}} + K_{i+1} \\Bigl(\\frac{\\partial u}{\\partial z}\\Bigr)_{i+\\frac{1}{2}}\\biggr]\\\\\n",
    "&= f (v_i - v_g) + \\frac{1}{\\Delta z} \\biggr[K_i \\Bigl(\\frac{\\partial u}{\\partial z}\\Bigr)_{i-\\frac{1}{2}} - K_{i+1} \\Bigl(\\frac{\\partial u}{\\partial z}\\Bigr)_{i+\\frac{1}{2}}\\biggr]\\\\\n",
    "&= f (v_i - v_g) + \\frac{1}{\\Delta z} \\biggr[\\Bigl(\\frac{K_i}{\\Delta z}\\Bigr)(u_{i-1}-u_i)-\\Bigl(\\frac{K_{i+1}}{\\Delta z}\\Bigr)(u_{i}-u_{i+1})\\biggr]\\\\\n",
    "&= f (v_i - v_g) + \\frac{1}{\\Delta z^2} \\biggr[K_i(u_{i-1}-u_i)-K_{i+1}(u_{i}-u_{i+1})\\biggr]\n",
    "\n",
    "\n",
    "\\end{align}\n",
    "\\\\\n",
    "\\text{With nonlocal term } \\gamma \\text{=} \\frac{C_s \\left( -\\tau_x / \\rho_0 \\right)^{-1/2}}{u_s h}\\\\\n",
    "\n",
    "\\begin{align}\n",
    "&= f (v_i - v_g) + \\frac{1}{\\Delta z^2} \\biggr[K_i\\bigl((u_{i-1}-u_i)-\\gamma\\bigr)-K_{i+1}\\bigl((u_{i}-u_{i+1})-\\gamma\\bigr)\\biggr]\\\\\n",
    "\n",
    "\n",
    "\n",
    "\\end{align}\n",
    "$$\n",
    "\n",
    "Boundary conditions <p>\n",
    "$$\n",
    "\\begin{align}\n",
    "\n",
    "\\tau &= \\rho_0 K \\Bigl(\\frac{du}{dz}\\Bigr) \\\\\n",
    "\\frac{\\tau}{\\rho_0} &= K \\Bigl(\\frac{du}{dz}\\Bigr) \\\\\n",
    "\\therefore \n",
    "\\frac{\\partial u_0}{\\partial t} &= f (v_0 - v_g) + \\frac{1}{\\Delta z}\\biggr[\\frac{\\tau}{\\rho_0} -\\Bigl(\\frac{K_1}{\\Delta z}\\Bigr)(u_{0}-u_{1})\\biggr]\n",
    "\\\\\n",
    "\\\\\n",
    "u_{bottom} &= u_g\n",
    "\n",
    "\\end{align}\n",
    "\n",
    "$$\n",
    "___\n"
   ]
  },
  {
   "cell_type": "markdown",
   "metadata": {},
   "source": [
    "___\n",
    "<center>\n",
    "Looping with <br>\n",
    "Runge-Kutta 4 <p>\n",
    "\n",
    "$\\tilde{u}_1 = u^n + \\frac{\\Delta t}{2}F(u^n) \\newline$ <p>\n",
    "$\\tilde{u}_2 = u^n + \\frac{\\Delta t}{2}F(\\tilde{u}_1^n) \\newline$ <p>\n",
    "$\\tilde{u}_3 = u^n + \\Delta t F(\\tilde{u}_2^n) \\newline$ <p>\n",
    "$u^{n+1} = u^n + \\frac{\\Delta t}{6}[F(u^n) + 2F(\\tilde{u_1}) + 2F(\\tilde{u_2}) + F(\\tilde{u_3})] \\newline$ <p>\n",
    "\n",
    "___\n"
   ]
  },
  {
   "cell_type": "code",
   "execution_count": 94,
   "metadata": {},
   "outputs": [],
   "source": [
    "# TODO\n",
    "# calculate model h\n",
    "# plot h vs h (LES vs model)\n",
    "# get G_l, g_s from paper\n",
    "# plot u, v profiles\n",
    "# change path name for dataset (import os using getcwd())\n",
    "\n",
    "\n",
    "# Check Gs against plot in appendix\n",
    "# Gs must be zero at h, force this or check equation\n",
    "# Plot u, v profiles to find the error"
   ]
  },
  {
   "attachments": {},
   "cell_type": "markdown",
   "metadata": {},
   "source": [
    "# Code"
   ]
  },
  {
   "attachments": {},
   "cell_type": "markdown",
   "metadata": {},
   "source": [
    "Import libraries"
   ]
  },
  {
   "cell_type": "code",
   "execution_count": 95,
   "metadata": {},
   "outputs": [],
   "source": [
    "import numpy as np\n",
    "import matplotlib.pyplot as plt\n",
    "import pandas as pd\n",
    "from scipy.special import erf\n",
    "%matplotlib inline\n",
    " \n",
    "# Font style for plotting\n",
    "# plt.rcParams[\"font.family\"] = \"Georgia\"\n",
    "# plt.rcParams[\"font.size\"] = 10"
   ]
  },
  {
   "cell_type": "markdown",
   "metadata": {},
   "source": [
    "Grid"
   ]
  },
  {
   "cell_type": "code",
   "execution_count": 96,
   "metadata": {},
   "outputs": [
    {
     "name": "stdout",
     "output_type": "stream",
     "text": [
      "z_K:\t0,\t-1,\t...,\t-99\n",
      "z:\t-0.5,\t-1.5,\t...,\t-99.5\n",
      "\n",
      "hours of simulation: 55.6\n"
     ]
    }
   ],
   "source": [
    "# Time\n",
    "T = 200000                          # total seconds\n",
    "dt = 1                              # time step\n",
    "Nt = int(T/dt)                      # number of time steps\n",
    "\n",
    "# Space\n",
    "Z = 100                             # total meters deep\n",
    "dz = 1                              # step in z\n",
    "Nz = int(Z/dz)                      # number of grid nodes\n",
    "z_K = np.arange(0, -Z, -dz)         # z array from [0, -100]\n",
    "z = (z_K - (dz/2))                  # z array for K, staggered as i + 1/2\n",
    "\n",
    "# Print info\n",
    "print(f\"z_K:\\t{z_K[0]},\\t{z_K[1]},\\t...,\\t{z_K[-1]}\")   # start 0\n",
    "print(f\"z:\\t{z[0]},\\t{z[1]},\\t...,\\t{z[-1]}\")           # start at -0.5 below (dz*0.5 below surface)\n",
    "print(f\"\\nhours of simulation: {round(T/60/60,1)}\")"
   ]
  },
  {
   "cell_type": "markdown",
   "metadata": {},
   "source": [
    "Constants"
   ]
  },
  {
   "cell_type": "code",
   "execution_count": 97,
   "metadata": {},
   "outputs": [],
   "source": [
    "f = 7 * 10 ** (-5)                  # coriolis parameter\n",
    "tau_x_over_rho = 10 ** (-4)         # wind stress (tau_x / rho)\n",
    "tau_y_over_rho = 0                  # wind stress (tau_y / rho)\n",
    "ug, vg = 0, 0                       # geostrophic velocity\n",
    "threshold_epsilon = 0.10            # nondimensional extent of surface layer"
   ]
  },
  {
   "cell_type": "markdown",
   "metadata": {},
   "source": [
    "LES data"
   ]
  },
  {
   "cell_type": "code",
   "execution_count": 98,
   "metadata": {},
   "outputs": [],
   "source": [
    "# Create dataframe of LES runs data\n",
    "LES_runs = pd.read_csv(\"C:/Users/Sierra/Desktop/Chamecki Lab/LES_runs/all_LES_runs(1).txt\", sep=None, engine=\"python\").rename({\"A\" : \"Lambda\"}, axis = 1)\n",
    "LES_runs['h'] = [-66.8,-67.5,-60,-60,-66.8,-61.9, -63.8, -64.5, -64.9, -68.2, -62.2, -64.9, -58.5]  # Add h (boundary layer depth) values from paper\n",
    "LES_runs['La_SL'] = [0.28,0.52,1.70,0,0.69,0.51,0,1.74,0.75,3.47,1.51,0.51,0]\n",
    "run_names = np.array(LES_runs['Name'])\n",
    "file_names = [\"wu00L02\",\"wu00L03\",\"wu00L10\",\"wu00Lin\",\"wu00L04\",\"wu01L03\",\"wu01Lin\",\"wu01L10\",\"wu02L04\",\"wu03L20\",\"wu10L09\",\"wu20L03\",\"wu0inLna\"]\n",
    "path = \"C:/Users/Sierra/Desktop/Chamecki Lab/LES_runs/\"\n",
    "files = LES_runs[\"File\"].values\n",
    "\n",
    "df = {}\n",
    "for run_name, file, file_name in zip(run_names, files, file_names):\n",
    "        df[run_name] = pd.read_csv(path + file)"
   ]
  },
  {
   "cell_type": "markdown",
   "metadata": {},
   "source": [
    "Define K using LES for comparison"
   ]
  },
  {
   "cell_type": "code",
   "execution_count": 99,
   "metadata": {},
   "outputs": [],
   "source": [
    "def H(x): # Heaviside function used to get nonlocal flux\n",
    "    if isinstance(x, (float, int)):\n",
    "        return 1 if x >= 0 else 0\n",
    "    else:\n",
    "        return [H(xi) for xi in x]\n",
    "\n",
    "def getK(run_name, ons):\n",
    "    # Scalars from LES runs\n",
    "    u_star  = LES_runs.loc[LES_runs[\"Name\"]==run_name][\"u_star\"].squeeze()\n",
    "    h       = LES_runs.loc[LES_runs[\"Name\"]==run_name][\"h\"].squeeze()       # Added manually from table in paper\n",
    "    B_s     = LES_runs.loc[LES_runs[\"Name\"]==run_name][\"B_s\"].squeeze()\n",
    "    B_s     = B_s / 17.6                                                    # Correction from Tomas\n",
    "    La_SL   = LES_runs.loc[LES_runs[\"Name\"]==run_name][\"La_SL\"].squeeze()   # Added manually from table in paper\n",
    "    Lambda  = LES_runs.loc[LES_runs[\"Name\"]==run_name][\"Lambda\"].squeeze()\n",
    "    La_t    = LES_runs.loc[LES_runs[\"Name\"]==run_name][\"La_t\"].squeeze()    # Added manually from table in paper\n",
    "    \n",
    "    # Terms defined in paper\n",
    "    kappa = 0.4\n",
    "    u_s = kappa * u_star\n",
    "    # h = -0.7 * u_star / f # TODO Figure this out, it's wrong\n",
    "    # print(h)\n",
    "    sigma = z_K/h\n",
    "    Gn = sigma * (1 - sigma) ** 2\n",
    "    c4, c5, c6 = 45, -33, 9\n",
    "    Gl = sigma * (1 - sigma)**2 * (1 + c4 * sigma + c5 * (sigma + sigma **2) + c6 * (3*sigma + 2*sigma**2 + sigma**3))\n",
    "    Gk = Gn if (Lambda < 10 ** -3 and La_t > 10) else Gl\n",
    "    Gk = Gn\n",
    "    tau_x_over_rho = u_star ** 2\n",
    "    \n",
    "    # Create K\n",
    "    K = u_s * np.abs(h) * Gk\n",
    "\n",
    "    # Enhancement parameters\n",
    "    phi, epsilon, gamma = np.ones_like(K), np.ones_like(K), [np.zeros_like(K[1:-1]), np.zeros_like(K[1:-1])]\n",
    "\n",
    "    # CONVECTION %%%%%%%%%%%%%%%%%%%%%%%%%%%%%%%%%%%%%%%%%%%%%%%%%%%%%%%%%%%%%%%%%%\n",
    "    if \"phi_on\" in ons:  # Convection term\n",
    "        zeta = np.zeros_like(sigma)\n",
    "\n",
    "        # Create zeta array, or set to one if no convection\n",
    "        if B_s: # Surface buoyancy\n",
    "            L_o = (u_star ** 3)/(kappa*B_s)\n",
    "            if L_o:\n",
    "                zeta = z_K / L_o\n",
    "            else:\n",
    "                print(\"phi on, B_s, but no L_o\")\n",
    "        else:\n",
    "            print(\"phi on but no B_s\")\n",
    "        \n",
    "        phi = np.ones_like(sigma) # Create array of ones\n",
    "    \n",
    "        # Eq. B1 from Large, et al\n",
    "        if any(zeta):\n",
    "            for i in range(len(zeta)):\n",
    "                if zeta[i] >= 0:                            # Eq. B1a\n",
    "                    phi[i] = 1 + 5*zeta[i]\n",
    "                elif zeta[i] >= -0.2 and zeta[i] < 0:       # Eq. B1b\n",
    "                    phi[i] = (1-16*zeta[i])**(-1/4)\n",
    "                elif zeta[i] < -0.2:                        # Eq. B1c\n",
    "                    phi[i] = (1.26-8.38*zeta[i])**(-1/3)\n",
    "        \n",
    "        # Cap phi at its value at sigma = 0.1\n",
    "        for i in range(len(sigma)):\n",
    "            if sigma[i] >= 0.1:\n",
    "                phi[i:] = phi[i]\n",
    "                break\n",
    "        K = K / phi\n",
    "    \n",
    "    # MOMENTUM %%%%%%%%%%%%%%%%%%%%%%%%%%%%%%%%%%%%%%%%%%%%%%%%%%%%%%%%%%%%%%%%%%%%\n",
    "    if \"epsilon_on\" in ons:  # Wave momentum term\n",
    "        # Reichl et al (2016) formulation\n",
    "        if La_SL: # La_SL is shown in the paper for only 10 of the 13 LES runs; don't calculate epsilon for omitted runs (yet)\n",
    "            epsilon_prime = min(2.25, 1 + 1/La_SL)\n",
    "            epsilon = 1 + (epsilon_prime - 1) * (Gn / max(Gn))\n",
    "        else:\n",
    "            print(\"eps on, but no La_SL found.\")\n",
    "        K = K * epsilon\n",
    "\n",
    "    # NONLOCAL FLUX %%%%%%%%%%%%%%%%%%%%%%%%%%%%%%%%%%%%%%%%%%%%%%%%%%%%%%%%%%%%%%%\n",
    "    if \"gamma_on\" in ons:    # Nonlocal flux term\n",
    "        c_s = 98.96 # nondimensional const.; see Large et al (cited as such in Chor paper)\n",
    "        C_s = 5 * kappa * (0.1 * c_s * kappa) ** 1/3\n",
    "        if u_s:\n",
    "            gamma_u = C_s * (-tau_x_over_rho) ** 1/2 / (u_s * abs(h))\n",
    "            gamma_v = C_s * (-tau_y_over_rho) ** 1/2 / (u_s * abs(h))\n",
    "            gamma = [gamma_u, gamma_v]\n",
    "\n",
    "        # New Gs %%%%\n",
    "        gs = 2 * (sigma - 0.2) * (1 - sigma) ** 2 * H(sigma - 0.2)\n",
    "        Lambda_c = kappa\n",
    "        L1 = 0.95\n",
    "        C1 = 1.95\n",
    "        C2 = 1.82\n",
    "        La_c = 10\n",
    "        Langmuir = L1 * (1 - H(La_t - La_c))\n",
    "        Convection = C1 * H(Lambda) * (1+erf(C2 * (Lambda - Lambda_c)))/2\n",
    "        Gs = (Langmuir + Convection) * gs\n",
    "        # Cap Gs at its value at sigma = 0.1\n",
    "        for i in range(len(sigma)):\n",
    "            if sigma[i] >= 1:\n",
    "                Gs[i:] = Gs[i]\n",
    "                break\n",
    "        gamma = Gs # TODO Fix name of gamma -> Gs\n",
    "        # print(K, tau_x_over_rho, gamma[0][-16])\n",
    "        plt.plot(Gs, -sigma)\n",
    "        plt.ylabel(\"-$\\sigma$\")\n",
    "        plt.xlabel(\"Gs\")\n",
    "        plt.title(\"Gs\")\n",
    "\n",
    "    # Modify K\n",
    "    for i in range(len(K)):\n",
    "        if sigma[i] > 1:\n",
    "            K[i] = 0\n",
    "\n",
    "    return tau_x_over_rho, K, sigma, phi, gamma"
   ]
  },
  {
   "cell_type": "markdown",
   "metadata": {},
   "source": [
    "Main loop"
   ]
  },
  {
   "cell_type": "code",
   "execution_count": 100,
   "metadata": {},
   "outputs": [],
   "source": [
    "# Functions to use in the loop\n",
    "\n",
    "def F(u_val, v_val, K, tau_x_over_rho, tau_y_over_rho, gamma):\n",
    "    F_u, F_v = np.zeros(Nz), np.zeros(Nz)\n",
    "    Gs = gamma[:-1] # TODO Fix this\n",
    "    # Interior nodes\n",
    "    F_u[1:-1] =  (f * (v_val[1:-1] - vg) + ((1/dz**2) * (K[1:-1])*((u_val[0:-2] - u_val[1:-1])) - (K[2:]*((u_val[1:-1] - u_val[2:])))) - 1/dz * tau_x_over_rho * (Gs[1:] - Gs[0:-1]))\n",
    "    F_v[1:-1] = (-f * (u_val[1:-1] - ug) + ((1/dz**2) * (K[1:-1])*((v_val[0:-2] - v_val[1:-1])) - (K[2:]*((v_val[1:-1] - v_val[2:])))) - 1/dz * tau_y_over_rho * (Gs[1:] - Gs[0:-1]))\n",
    "\n",
    "    return F_u[1:-1], F_v[1:-1]\n",
    "\n",
    "def BC(u_val, v_val, K, tau_x_over_rho, tau_y_over_rho):\n",
    "\n",
    "    # Boundaries\n",
    "    F_u_top =  (f * (v_val[0] - vg) + (1/dz) * (tau_x_over_rho - (K[1]/dz) * (u_val[0] - u_val[1])))\n",
    "    F_v_top = (-f * (u_val[0] - ug) + (1/dz) * (tau_y_over_rho - (K[1]/dz) * (v_val[0] - v_val[1])))\n",
    "\n",
    "    return F_u_top, F_v_top"
   ]
  },
  {
   "cell_type": "code",
   "execution_count": 101,
   "metadata": {},
   "outputs": [],
   "source": [
    "saverate = 5\n",
    "def runLoop(run_name, testing=False, get_saved=False):\n",
    "    print(run_name + \" ———————————————————————\")\n",
    "    LES_u, LES_v = df[run_name][\"u\"][::int(3/dz)], df[run_name][\"v\"][::int(3/dz)]\n",
    "    all_uverr, all_saved = [], []\n",
    "\n",
    "    # Test enhancement factors\n",
    "    if testing:\n",
    "        tests = [{\"epsilon_on\", \"phi_on\", \"gamma_on\"},   # eps phi gamma\n",
    "                 {\"epsilon_on\", \"phi_on\"},               # eps phi\n",
    "                 {\"epsilon_on\"},                         # eps\n",
    "                 {\"phi_on\"},                             # phi\n",
    "                 {}                                      # none\n",
    "                ]\n",
    "    else:\n",
    "        tests = [{\"epsilon_on\", \"phi_on\", \"gamma_on\"}]\n",
    "\n",
    "    for test in tests:\n",
    "        print(test)\n",
    "\n",
    "        tau_x_over_rho, K, sigma, phi, gamma = getK(run_name, test)\n",
    "\n",
    "        # fig, [ax1, ax2, ax3] = plt.subplots(ncols=3)\n",
    "        # fig.suptitle(test)\n",
    "        # ax1.plot(K, -sigma)\n",
    "        # ax1.set_xlabel(\"K\")\n",
    "        # ax1.set_ylabel(\"-sigma\")\n",
    "        # ax1.legend()\n",
    "\n",
    "        # Initialize arrays for next time step\n",
    "        u,       v       = np.zeros(Nz), np.zeros(Nz)\n",
    "        u_1,     v_1     = np.zeros(Nz), np.zeros(Nz)\n",
    "        u_2,     v_2     = np.zeros(Nz), np.zeros(Nz)\n",
    "        u_3,     v_3     = np.zeros(Nz), np.zeros(Nz)\n",
    "        u_fut,   v_fut   = np.zeros(Nz), np.zeros(Nz)\n",
    "        u_saved, v_saved = np.zeros((Nz, int(Nt/saverate))), np.zeros((Nz, int(Nt/saverate)))\n",
    "        tau_y_over_rho   = 0\n",
    "\n",
    "        # RK4\n",
    "        for n in np.arange(0, T, dt):  # Loop thru time, Nt times\n",
    "            \n",
    "            # Intermediate 1\n",
    "            F_u,  F_v  = F(u, v, K, tau_x_over_rho, tau_y_over_rho, gamma)\n",
    "            BC_u, BC_v = BC(u, v, K, tau_x_over_rho, tau_y_over_rho)\n",
    "            u_1[1:-1] = u[1:-1] + (dt/2) * F_u            # [0] gives the u array\n",
    "            v_1[1:-1] = v[1:-1] + (dt/2) * F_v            # [1] gives the v array \n",
    "            u_1[0]    = u[0]    + (dt/2) * BC_u\n",
    "            v_1[0]    = v[0]    + (dt/2) * BC_v\n",
    "            u_1[-1], v_1[-1] = ug, vg\n",
    "            \n",
    "            # Intermediate 2\n",
    "            F_u_1,  F_v_1  = F(u_1, v_1, K, tau_x_over_rho, tau_y_over_rho, gamma)\n",
    "            BC_u_1, BC_v_1 = BC(u_1, v_1, K, tau_x_over_rho, tau_y_over_rho)\n",
    "            u_2[1:-1] = u[1:-1] + (dt/2) * F_u_1\n",
    "            v_2[1:-1] = v[1:-1] + (dt/2) * F_v_1\n",
    "            u_2[0]    = u[0]    + (dt/2) * BC_u_1\n",
    "            v_2[0]    = v[0]    + (dt/2) * BC_v_1\n",
    "            u_2[-1], v_2[-1] = ug, vg\n",
    "\n",
    "            # Intermediate 3\n",
    "            F_u_2,  F_v_2  = F(u_2, v_2, K, tau_x_over_rho, tau_y_over_rho, gamma)\n",
    "            BC_u_2, BC_v_2 = BC(u_2, v_2, K, tau_x_over_rho, tau_y_over_rho)\n",
    "            u_3[1:-1] = u[1:-1] + (dt) * F_u_2\n",
    "            v_3[1:-1] = v[1:-1] + (dt) * F_v_2\n",
    "            u_3[0]    = u[0]    + (dt) * BC_u_2\n",
    "            v_3[0]    = v[0]    + (dt) * BC_v_2\n",
    "            u_3[-1], v_3[-1] = ug, vg\n",
    "\n",
    "            # Next velocity vector in time\n",
    "            F_u_3,  F_v_3  = F(u_3, v_3, K, tau_x_over_rho, tau_y_over_rho, gamma)\n",
    "            BC_u_3, BC_v_3 = BC(u_3, v_3, K, tau_x_over_rho, tau_y_over_rho)\n",
    "            u_fut[1:-1] = u[1:-1] + (dt/6) * (F_u  + 2*F_u_1  + 2*F_u_2  + F_u_3)\n",
    "            v_fut[1:-1] = v[1:-1] + (dt/6) * (F_v  + 2*F_v_1  + 2*F_v_2  + F_v_3) \n",
    "            u_fut[0]    = u[0]    + (dt/6) * (BC_u + 2*BC_u_1 + 2*BC_u_2 + BC_u_3)\n",
    "            v_fut[0]    = v[0]    + (dt/6) * (BC_v + 2*BC_v_1 + 2*BC_v_2 + BC_v_3) \n",
    "            u_fut[-1], v_fut[-1] = ug, vg\n",
    "\n",
    "            # Update u and v to restart loop with new starting values\n",
    "            u = np.copy(u_fut)\n",
    "            v = np.copy(v_fut)\n",
    "\n",
    "            # Save history\n",
    "            if (n/dt)%saverate == 0:\n",
    "                u_saved[:,int((n/dt)/saverate)] = np.copy(u)\n",
    "                v_saved[:,int((n/dt)/saverate)] = np.copy(v)\n",
    "\n",
    "        # Get average value of u and v oscillations\n",
    "        u_avg = np.mean(u_saved[-int(2*np.pi/f):], axis=1)\n",
    "        v_avg = np.mean(v_saved[-int(2*np.pi/f):], axis=1)\n",
    "        print(f\"Finished calculating values.\")\n",
    "\n",
    "        # ax2.plot(u_avg, z_K)\n",
    "        # ax2.set_xlabel(\"u\")\n",
    "        # ax2.set_ylabel(\"z\")\n",
    "\n",
    "        # ax3.plot(u_avg, v_avg)\n",
    "        # ax3.set_xlabel(\"u\")\n",
    "        # ax3.set_ylabel(\"v\")\n",
    "\n",
    "        # Get error\n",
    "        error_u, error_v = np.zeros_like(u_avg), np.zeros_like(u_avg),\n",
    "        # error_u, error_v = [np.sqrt(sum((u_avg - LES_u) ** 2))], [np.sqrt(sum((v_avg - LES_v) ** 2))]\n",
    "\n",
    "        all_uverr.append([u_avg, v_avg, error_u, error_v])\n",
    "        all_saved.append([u_saved, v_saved])\n",
    "\n",
    "    return [LES_u, LES_v], all_uverr # note all_saved is NOT returned"
   ]
  },
  {
   "cell_type": "markdown",
   "metadata": {},
   "source": [
    "Plots"
   ]
  },
  {
   "cell_type": "markdown",
   "metadata": {},
   "source": [
    "Dictionary of runs"
   ]
  },
  {
   "cell_type": "code",
   "execution_count": 117,
   "metadata": {},
   "outputs": [
    {
     "name": "stdout",
     "output_type": "stream",
     "text": [
      "Joint PDF Peak ———————————————————————\n",
      "{'gamma_on', 'epsilon_on', 'phi_on'}\n",
      "Finished calculating values.\n"
     ]
    },
    {
     "data": {
      "image/png": "[encoded data removed]",
      "text/plain": [
       "<Figure size 640x480 with 1 Axes>"
      ]
     },
     "metadata": {},
     "output_type": "display_data"
    }
   ],
   "source": [
    "# runtime: 5 min/run * 13 runs = 1 hr\n",
    "# Full runs\n",
    "testing = True\n",
    "runs = { # run name \n",
    "    # 'Neutral Swell':                [*runLoop('Neutral Swell',               testing=testing)],              \n",
    "    # 'Neutral Wind-Wave Eq.':        [*runLoop('Neutral Wind-Wave Eq.',       testing=testing)],      \n",
    "    # 'Neutral Weak Waves':           [*runLoop('Neutral Weak Waves',          testing=testing)],         \n",
    "    # 'Pure Wind Stress':             [*runLoop('Pure Wind Stress',            testing=testing)],           \n",
    "    # 'Weak Conv + Waves':            [*runLoop('Weak Conv + Waves',           testing=testing)],          \n",
    "    # 'Weak Conv + Wind-Wave Eq.':    [*runLoop('Weak Conv + Wind-Wave Eq.',   testing=testing)],  \n",
    "    # 'Weak Conv + Waveless':         [*runLoop('Weak Conv + Waveless',        testing=testing)],       \n",
    "    # 'Weak Conv+ Weak Waves':        [*runLoop('Weak Conv+ Weak Waves',       testing=testing)],          \n",
    "    'Joint PDF Peak':               [*runLoop('Joint PDF Peak',              testing=testing)],             \n",
    "    # 'Weak Conv + very Weak Waves':  [*runLoop('Weak Conv + very Weak Waves', testing=testing)], \n",
    "    # 'Strong Conv + weak Waves':     [*runLoop('Strong Conv + weak Waves',    testing=testing)],   \n",
    "    # 'Strong Conv + Wind-Wave Eq':   [*runLoop('Strong Conv + Wind-Wave Eq',  testing=testing)],  \n",
    "    # 'Pure Convection':              [*runLoop('Pure Convection',             testing=testing)]\n",
    "}"
   ]
  },
  {
   "cell_type": "markdown",
   "metadata": {},
   "source": [
    "$u$ vs. $v$ hodograph"
   ]
  },
  {
   "cell_type": "code",
   "execution_count": 103,
   "metadata": {},
   "outputs": [],
   "source": [
    "def PlotRun(run_list, testing=True):\n",
    "    tests = [\"ε, φ, γ\", \"ε, φ\", \"ε\", \"φ\", \"None\"]\n",
    "\n",
    "    for run in runs:\n",
    "\n",
    "        LES_u, LES_v                       = runs[run][0][0],     runs[run][0][1]    # LES\n",
    "        epg_u, epg_v, epg_err_u, epg_err_v = runs[run][1][0][0],  runs[run][1][0][1], runs[run][1][0][2],  runs[run][1][0][3],     # eps phi gam\n",
    "        \n",
    "        plt.figure(figsize=(5,5))\n",
    "        plt.plot(LES_u, LES_v,  color=\"black\", alpha=1.00, ls=\":\", label=f\"LES\")\n",
    "        plt.plot(epg_u, epg_v,  color=\"red\",   alpha=0.75, ls=\"-\", label=f\"{tests[0]}\")\n",
    "\n",
    "        if testing:\n",
    "            ep_u, ep_v, ep_err_u, ep_err_v = runs[run][1][1][0],  runs[run][1][1][1], runs[run][1][1][2],  runs[run][1][1][3],     # eps phi\n",
    "            e_u, e_v, e_err_u, e_err_v     = runs[run][1][2][0],  runs[run][1][2][1], runs[run][1][2][2],  runs[run][1][2][3],     # eps \n",
    "            p_u, p_v, p_err_u, p_err_v     = runs[run][1][3][0],  runs[run][1][3][1], runs[run][1][3][2],  runs[run][1][3][3],     # phi\n",
    "            n_u, n_v, n_err_u, n_err_v     = runs[run][1][4][0],  runs[run][1][4][1], runs[run][1][4][2],  runs[run][1][4][3],     # none\n",
    "\n",
    "            plt.plot(ep_u, ep_v, color=\"orange\",        alpha=0.60, ls=\"-\", label=f\"{tests[1]}\")          \n",
    "            plt.plot(e_u,   e_v, color=\"darkseagreen\",  alpha=0.60, ls=\"-\", label=f\"{tests[2]}\")                      \n",
    "            plt.plot(p_u,   p_v, color=\"slateblue\",     alpha=0.45, ls=\"-\", label=f\"{tests[3]}\")                         \n",
    "            plt.plot(n_u,   n_v, color=\"silver\",        alpha=0.45, ls=\"-\", label=f\"{tests[4]}\")                             \n",
    "\n",
    "        plt.xlabel('u')\n",
    "        plt.ylabel('v')\n",
    "        plt.legend()\n",
    "        plt.title(run)\n",
    "        plt.show()\n",
    "\n",
    "#        0     1       2        3\n",
    "# 0 les[u,     v]\n",
    "# 1 model\n",
    "#   0 epg[u_avg, v_avg, error_u, error_v]\n",
    "#   1 ep[u_avg,  v_avg, error_u, error_v]\n",
    "#   2 e[u_avg,   v_avg, error_u, error_v]\n",
    "#   3 p[u_avg,   v_avg, error_u, error_v]\n",
    "#   4 n[u_avg,   v_avg, error_u, error_v] \n"
   ]
  },
  {
   "cell_type": "code",
   "execution_count": 120,
   "metadata": {},
   "outputs": [
    {
     "data": {
      "image/png": "[encoded data removed]",
      "text/plain": [
       "<Figure size 500x500 with 1 Axes>"
      ]
     },
     "metadata": {},
     "output_type": "display_data"
    },
    {
     "data": {
      "image/png": "[encoded data removed]",
      "text/plain": [
       "<Figure size 500x500 with 1 Axes>"
      ]
     },
     "metadata": {},
     "output_type": "display_data"
    }
   ],
   "source": [
    "def PlotProfiles_u(run_list, testing=True):\n",
    "    tests = [\"ε, φ, γ\", \"ε, φ\", \"ε\", \"φ\", \"None\"]\n",
    "\n",
    "    for run in runs:\n",
    "\n",
    "        LES_u, LES_v                       = runs[run][0][0],     runs[run][0][1]    # LES\n",
    "        epg_u, epg_v, epg_err_u, epg_err_v = runs[run][1][0][0],  runs[run][1][0][1], runs[run][1][0][2],  runs[run][1][0][3],     # eps phi gam\n",
    "        \n",
    "        plt.figure(figsize=(5,5))\n",
    "        plt.plot(LES_u, z,  color=\"black\", alpha=1.00, ls=\":\", label=f\"LES\")\n",
    "        plt.plot(epg_u, z,  color=\"red\",   alpha=0.75, ls=\"-\", label=f\"{tests[0]}\")\n",
    "\n",
    "        if testing:\n",
    "            ep_u, ep_v, ep_err_u, ep_err_v = runs[run][1][1][0],  runs[run][1][1][1], runs[run][1][1][2],  runs[run][1][1][3],     # eps phi\n",
    "            e_u, e_v, e_err_u, e_err_v     = runs[run][1][2][0],  runs[run][1][2][1], runs[run][1][2][2],  runs[run][1][2][3],     # eps \n",
    "            p_u, p_v, p_err_u, p_err_v     = runs[run][1][3][0],  runs[run][1][3][1], runs[run][1][3][2],  runs[run][1][3][3],     # phi\n",
    "            n_u, n_v, n_err_u, n_err_v     = runs[run][1][4][0],  runs[run][1][4][1], runs[run][1][4][2],  runs[run][1][4][3],     # none\n",
    "\n",
    "            plt.plot(ep_u, z, color=\"orange\",        alpha=0.60, ls=\"-\", label=f\"{tests[1]}\")          \n",
    "            plt.plot(e_u,  z, color=\"darkseagreen\",  alpha=0.60, ls=\"-\", label=f\"{tests[2]}\")                      \n",
    "            plt.plot(p_u,  z, color=\"slateblue\",     alpha=0.45, ls=\"-\", label=f\"{tests[3]}\")                         \n",
    "            plt.plot(n_u,  z, color=\"silver\",        alpha=0.45, ls=\"-\", label=f\"{tests[4]}\")                             \n",
    "\n",
    "        plt.xlabel('u')\n",
    "        plt.ylabel('z')\n",
    "        plt.legend()\n",
    "        plt.title(run)\n",
    "        plt.show()\n",
    "\n",
    "def PlotProfiles_v(run_list, testing=True):\n",
    "    tests = [\"ε, φ, γ\", \"ε, φ\", \"ε\", \"φ\", \"None\"]\n",
    "\n",
    "    for run in runs:\n",
    "\n",
    "        LES_u, LES_v                       = runs[run][0][0],     runs[run][0][1]    # LES\n",
    "        epg_u, epg_v, epg_err_u, epg_err_v = runs[run][1][0][0],  runs[run][1][0][1], runs[run][1][0][2],  runs[run][1][0][3],     # eps phi gam\n",
    "        \n",
    "        plt.figure(figsize=(5,5))\n",
    "        plt.plot(LES_v, z,  color=\"black\", alpha=1.00, ls=\":\", label=f\"LES\")\n",
    "        plt.plot(epg_v, z,  color=\"red\",   alpha=0.75, ls=\"-\", label=f\"{tests[0]}\")\n",
    "\n",
    "        if testing:\n",
    "            ep_u, ep_v, ep_err_u, ep_err_v = runs[run][1][1][0],  runs[run][1][1][1], runs[run][1][1][2],  runs[run][1][1][3],     # eps phi\n",
    "            e_u, e_v, e_err_u, e_err_v     = runs[run][1][2][0],  runs[run][1][2][1], runs[run][1][2][2],  runs[run][1][2][3],     # eps \n",
    "            p_u, p_v, p_err_u, p_err_v     = runs[run][1][3][0],  runs[run][1][3][1], runs[run][1][3][2],  runs[run][1][3][3],     # phi\n",
    "            n_u, n_v, n_err_u, n_err_v     = runs[run][1][4][0],  runs[run][1][4][1], runs[run][1][4][2],  runs[run][1][4][3],     # none\n",
    "\n",
    "            plt.plot(ep_v, z, color=\"orange\",        alpha=0.60, ls=\"-\", label=f\"{tests[1]}\")          \n",
    "            plt.plot(e_v,  z, color=\"darkseagreen\",  alpha=0.60, ls=\"-\", label=f\"{tests[2]}\")                      \n",
    "            plt.plot(p_v,  z, color=\"slateblue\",     alpha=0.45, ls=\"-\", label=f\"{tests[3]}\")                         \n",
    "            plt.plot(n_v,  z, color=\"silver\",        alpha=0.45, ls=\"-\", label=f\"{tests[4]}\")                             \n",
    "\n",
    "        plt.xlabel('u')\n",
    "        plt.xticks(rotation=30)\n",
    "        plt.ylabel('z')\n",
    "        plt.legend()\n",
    "        plt.title(run)\n",
    "        plt.show()\n",
    "\n",
    "def PlotProfiles(run_list, testing=True):\n",
    "    PlotProfiles_u(run_list, testing)\n",
    "    PlotProfiles_v(run_list, testing)\n",
    "\n",
    "#           0      1       2        3\n",
    "# 0 les[u,     v]\n",
    "# 1 model\n",
    "#   0 epg[u_avg, v_avg, error_u, error_v]\n",
    "#   1  ep[u_avg, v_avg, error_u, error_v]\n",
    "#   2   e[u_avg, v_avg, error_u, error_v]\n",
    "#   3   p[u_avg, v_avg, error_u, error_v]\n",
    "#   4   n[u_avg, v_avg, error_u, error_v] \n",
    "\n",
    "PlotProfiles(runs, False)"
   ]
  },
  {
   "cell_type": "markdown",
   "metadata": {},
   "source": [
    "$u$ and $v$ depth profiles"
   ]
  },
  {
   "cell_type": "code",
   "execution_count": 104,
   "metadata": {},
   "outputs": [
    {
     "data": {
      "image/png": "[encoded data removed]",
      "text/plain": [
       "<Figure size 500x500 with 1 Axes>"
      ]
     },
     "metadata": {},
     "output_type": "display_data"
    }
   ],
   "source": [
    "PlotRun(runs, False)"
   ]
  },
  {
   "cell_type": "code",
   "execution_count": 105,
   "metadata": {},
   "outputs": [],
   "source": [
    "# # [{\"epsilon_on\", \"phi_on\", \"gamma_on\"},   # eps phi gamma\n",
    "# #                  {\"epsilon_on\", \"phi_on\"},               # eps phi\n",
    "# #                  {\"epsilon_on\"},                         # eps\n",
    "# #                  {\"phi_on\"},                             # phi\n",
    "# #                  {}                                      # none\n",
    "# #                 ]\n",
    "\n",
    "# u_avg, v_avg, _, _, = uv[3]\n",
    "\n",
    "# # Model plot\n",
    "# a = 2\n",
    "# b = -1\n",
    "\n",
    "# u_compare, v_compare = les\n",
    "\n",
    "# # u_avg, v_avg, u_compare, v_compare = WCWaveless_u, WCWaveless_v, LES_WCWaveless_u[::3], LES_WCWaveless_v[::3]\n",
    "\n",
    "# plt.plot(u_avg[a:b], z[a:b], label=\"u(z), Model\", color=\"green\")\n",
    "# plt.plot(v_avg[a:b], z[a:b], label=\"v(z), Model\", color=\"darkblue\")\n",
    "\n",
    "# # Analytical plot\n",
    "# plt.plot(u_compare, z, label=\"u(z), Solution\", color=\"darkgreen\", alpha=0.5, linestyle=\"--\")\n",
    "# plt.plot(v_compare, z, label=\"v(z), Solution\", color=\"indigo\", alpha=0.5, linestyle=\"--\")\n",
    "\n",
    "# # Plot labels\n",
    "# plt.xlabel(\"u\", weight=\"bold\")\n",
    "# plt.ylabel(\"z\")\n",
    "# plt.title(\"Velocity at depth z\")\n",
    "# plt.legend()\n",
    "# plt.show()\n"
   ]
  },
  {
   "cell_type": "markdown",
   "metadata": {},
   "source": [
    "Time evolution of ($u_1, v_1$)"
   ]
  },
  {
   "cell_type": "code",
   "execution_count": 106,
   "metadata": {},
   "outputs": [],
   "source": [
    "# # run array format: NAME, model_u, model_v, LES_u, LES_v, model_u_saved, model_v_saved\n",
    "\n",
    "\n",
    "# def PlotTimeEvolution(run1=None, run2=None, run3=None, run4=None, depths=[1,10,30,50,90]):\n",
    "#     for run in [run1, run2, run3, run4]:\n",
    "#         print(f\"%% {run[0]} %%%%%%%%%%%%%%%%%%%%%%%%%%%%%%%%%%%%%%%%%%%%%%\")\n",
    "#         run_name, u_avg, v_avg, u_sol, v_sol, u_saved, v_saved = *run,\n",
    "\n",
    "#         for depth in depths:\n",
    "#             # Model plot\n",
    "#             # plt.figure(figsize=(4,4))\n",
    "#             plt.plot(u_saved[depth+1,2:-1], label=\"u(z), Model\", color=\"green\", alpha=0.25)\n",
    "#             plt.plot(v_saved[depth+1,2:-1], label=\"v(z), Model\", color=\"darkblue\", alpha=0.25)\n",
    "\n",
    "#             plt.axhline(u_avg[depth+1], label=\"u(z), Model Avg'd\", color=\"green\", alpha=0.25, ls=\"--\")\n",
    "#             plt.axhline(v_avg[depth+1], label=\"v(z), Model Avg'd\", color=\"darkblue\", alpha=0.25, ls=\"--\")\n",
    "\n",
    "#             # Analytical plot\n",
    "#             plt.axhline(u_sol[depth], label=\"u(z), Analytical\", color=\"darkgreen\")\n",
    "#             plt.axhline(v_sol[depth], label=\"v(z), Analytical\", color=\"indigo\")\n",
    "\n",
    "#             # Plot labels\n",
    "#             plt.xlabel(f\"time steps (dt={dt})\")\n",
    "#             plt.ylabel(f\"$u_{depth}, v_{depth}$\")\n",
    "#             plt.title(f\"{run[0]}: Time evolution of u and v at depth z = {depth}\")\n",
    "#             plt.legend(bbox_to_anchor=[1.35,0.5])\n",
    "#             plt.show()\n",
    "\n",
    "# PlotTimeEvolution(*runs)"
   ]
  }
 ],
 "metadata": {
  "kernelspec": {
   "display_name": "aos-180",
   "language": "python",
   "name": "python3"
  },
  "language_info": {
   "codemirror_mode": {
    "name": "ipython",
    "version": 3
   },
   "file_extension": ".py",
   "mimetype": "text/x-python",
   "name": "python",
   "nbconvert_exporter": "python",
   "pygments_lexer": "ipython3",
   "version": "3.11.3"
  },
  "orig_nbformat": 4
 },
 "nbformat": 4,
 "nbformat_minor": 2
}
